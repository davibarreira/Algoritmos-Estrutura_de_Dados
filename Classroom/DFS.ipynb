{
 "cells": [
  {
   "cell_type": "code",
   "execution_count": null,
   "metadata": {},
   "outputs": [],
   "source": [
    "import pixiedust"
   ]
  },
  {
   "cell_type": "code",
   "execution_count": 42,
   "metadata": {},
   "outputs": [],
   "source": [
    "graph = {'A': set(['B','C']),\n",
    "         'B': set(['A','D','E']),\n",
    "         'C': set(['A','F']),\n",
    "         'D': set(['B']),\n",
    "         'E': set(['B','F']),\n",
    "         'F': set(['C','E'])\n",
    "        }"
   ]
  },
  {
   "cell_type": "code",
   "execution_count": 43,
   "metadata": {},
   "outputs": [],
   "source": [
    "start_time = {}\n",
    "end_time   = {}\n",
    "status      = {}"
   ]
  },
  {
   "cell_type": "code",
   "execution_count": 31,
   "metadata": {},
   "outputs": [
    {
     "name": "stdout",
     "output_type": "stream",
     "text": [
      "A\n",
      "B\n",
      "C\n",
      "D\n",
      "E\n",
      "F\n"
     ]
    }
   ],
   "source": [
    "for i in graph.keys():\n",
    "    print(i)"
   ]
  },
  {
   "cell_type": "code",
   "execution_count": 44,
   "metadata": {},
   "outputs": [],
   "source": [
    "for i in graph.keys():\n",
    "    status[i] = 'unvisited'"
   ]
  },
  {
   "cell_type": "code",
   "execution_count": 56,
   "metadata": {
    "pixiedust": {
     "displayParams": {}
    },
    "scrolled": true
   },
   "outputs": [],
   "source": [
    "# %%pixie_debugger\n",
    "\n",
    "def dfs(u,cur_time,graph):\n",
    "    start_time[u] = cur_time\n",
    "    cur_time +=1\n",
    "    status[u] = 'in_progress'\n",
    "    for v in graph[u]:\n",
    "        if status[v] == 'unvisited':\n",
    "            cur_time = dfs(v,cur_time,graph)\n",
    "            cur_time += 1\n",
    "    end_time[u] = cur_time\n",
    "    status[u] = 'done'\n",
    "    print(u)\n",
    "    return cur_time\n"
   ]
  },
  {
   "cell_type": "code",
   "execution_count": 81,
   "metadata": {},
   "outputs": [
    {
     "name": "stdout",
     "output_type": "stream",
     "text": [
      "S\n",
      "SC\n",
      "CAL\n",
      "U\n",
      "------------\n",
      "UCLA\n",
      "------------\n"
     ]
    },
    {
     "ename": "KeyError",
     "evalue": "'SC'",
     "output_type": "error",
     "traceback": [
      "\u001b[0;31m---------------------------------------------------------------------------\u001b[0m",
      "\u001b[0;31mKeyError\u001b[0m                                  Traceback (most recent call last)",
      "\u001b[0;32m<ipython-input-81-078aebdcf4fe>\u001b[0m in \u001b[0;36m<module>\u001b[0;34m\u001b[0m\n\u001b[1;32m     23\u001b[0m     \u001b[0;32mfor\u001b[0m \u001b[0mn\u001b[0m \u001b[0;32min\u001b[0m \u001b[0mstatus\u001b[0m\u001b[0;34m:\u001b[0m\u001b[0;34m\u001b[0m\u001b[0;34m\u001b[0m\u001b[0m\n\u001b[1;32m     24\u001b[0m         \u001b[0;32mif\u001b[0m \u001b[0mstatus\u001b[0m\u001b[0;34m[\u001b[0m\u001b[0mn\u001b[0m\u001b[0;34m]\u001b[0m \u001b[0;34m==\u001b[0m \u001b[0;34m'done'\u001b[0m\u001b[0;34m:\u001b[0m\u001b[0;34m\u001b[0m\u001b[0;34m\u001b[0m\u001b[0m\n\u001b[0;32m---> 25\u001b[0;31m             \u001b[0mvisited\u001b[0m\u001b[0;34m.\u001b[0m\u001b[0mremove\u001b[0m\u001b[0;34m(\u001b[0m\u001b[0mn\u001b[0m\u001b[0;34m)\u001b[0m\u001b[0;34m\u001b[0m\u001b[0;34m\u001b[0m\u001b[0m\n\u001b[0m\u001b[1;32m     26\u001b[0m         \u001b[0mvisited_aux\u001b[0m \u001b[0;34m=\u001b[0m \u001b[0mlist\u001b[0m\u001b[0;34m(\u001b[0m\u001b[0mvisited\u001b[0m\u001b[0;34m)\u001b[0m\u001b[0;34m\u001b[0m\u001b[0;34m\u001b[0m\u001b[0m\n",
      "\u001b[0;31mKeyError\u001b[0m: 'SC'"
     ]
    }
   ],
   "source": [
    "graph = {'SC': set(['U','S']),\n",
    "         'S': set([]),\n",
    "         'CAL': set(['S','SC']),\n",
    "         'UCLA': set(['U','S',\"SC\",'CAL']),\n",
    "         'U': set(['CAL']),\n",
    "        }\n",
    "\n",
    "start_time = {}\n",
    "end_time   = {}\n",
    "status      = {}\n",
    "\n",
    "for i in graph.keys():\n",
    "    status[i] = 'unvisited'\n",
    "    \n",
    "visited = set(graph.keys())\n",
    "visited_aux = list(visited)\n",
    "cur_time = 0\n",
    "\n",
    "while len(visted)>0:\n",
    "    v = visited_aux[0]\n",
    "    cur_time = dfs(v,cur_time,graph)\n",
    "    print('------------')\n",
    "    for n in status:\n",
    "        if status[n] == 'done':\n",
    "            visited.remove(n)\n",
    "        visited_aux = list(visited)"
   ]
  },
  {
   "cell_type": "code",
   "execution_count": 80,
   "metadata": {},
   "outputs": [
    {
     "data": {
      "text/plain": [
       "{'CAL', 'S', 'SC', 'U', 'UCLA'}"
      ]
     },
     "execution_count": 80,
     "metadata": {},
     "output_type": "execute_result"
    }
   ],
   "source": [
    "visited = set(graph.keys())\n",
    "visited\n"
   ]
  },
  {
   "cell_type": "code",
   "execution_count": 67,
   "metadata": {},
   "outputs": [
    {
     "data": {
      "text/plain": [
       "{'SC': 'done', 'S': 'done', 'CAL': 'done', 'UCLA': 'done', 'U': 'done'}"
      ]
     },
     "execution_count": 67,
     "metadata": {},
     "output_type": "execute_result"
    }
   ],
   "source": [
    "status"
   ]
  },
  {
   "cell_type": "code",
   "execution_count": 62,
   "metadata": {},
   "outputs": [
    {
     "data": {
      "text/plain": [
       "['SC', 'S', 'CAL', 'UCLA', 'U']"
      ]
     },
     "execution_count": 62,
     "metadata": {},
     "output_type": "execute_result"
    }
   ],
   "source": [
    "list(graph.keys())"
   ]
  }
 ],
 "metadata": {
  "kernelspec": {
   "display_name": "Python3(datascience)",
   "language": "python",
   "name": "datascience"
  },
  "language_info": {
   "codemirror_mode": {
    "name": "ipython",
    "version": 3
   },
   "file_extension": ".py",
   "mimetype": "text/x-python",
   "name": "python",
   "nbconvert_exporter": "python",
   "pygments_lexer": "ipython3",
   "version": "3.6.8"
  }
 },
 "nbformat": 4,
 "nbformat_minor": 2
}
