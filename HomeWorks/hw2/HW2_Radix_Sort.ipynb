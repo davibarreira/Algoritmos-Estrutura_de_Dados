{
 "cells": [
  {
   "cell_type": "markdown",
   "metadata": {},
   "source": [
    "# 2. Radix Sort"
   ]
  },
  {
   "cell_type": "markdown",
   "metadata": {},
   "source": [
    "Your job is to implement the radix sort algorithm in Python. The following code is going to be used to test your implementation. You have to submit a notebook with your code. "
   ]
  },
  {
   "cell_type": "code",
   "execution_count": 1,
   "metadata": {},
   "outputs": [
    {
     "name": "stdout",
     "output_type": "stream",
     "text": [
      "Pixiedust database opened successfully\n"
     ]
    },
    {
     "data": {
      "text/html": [
       "\n",
       "        <div style=\"margin:10px\">\n",
       "            <a href=\"https://github.com/ibm-watson-data-lab/pixiedust\" target=\"_new\">\n",
       "                <img src=\"https://github.com/ibm-watson-data-lab/pixiedust/raw/master/docs/_static/pd_icon32.png\" style=\"float:left;margin-right:10px\"/>\n",
       "            </a>\n",
       "            <span>Pixiedust version 1.1.17</span>\n",
       "        </div>\n",
       "        "
      ],
      "text/plain": [
       "<IPython.core.display.HTML object>"
      ]
     },
     "metadata": {},
     "output_type": "display_data"
    }
   ],
   "source": [
    "import pixiedust"
   ]
  },
  {
   "cell_type": "code",
   "execution_count": 2,
   "metadata": {},
   "outputs": [],
   "source": [
    "# Podemos utilizar o Merge Sort como stable sort para o nosso Radix Sort\n",
    "def merge(a, b):\n",
    "    result = []\n",
    "    while len(a) > 0 and len(b) > 0:\n",
    "        if a[0] < b[0]:\n",
    "            result.append(a[0])\n",
    "            a.pop(0)\n",
    "        else:\n",
    "            result.append(b[0])\n",
    "            b.pop(0)\n",
    "    result.extend(a)\n",
    "    result.extend(b)\n",
    "    return result\n",
    "\n",
    "\n",
    "def merge_sort(a):\n",
    "    if len(a) <= 1:\n",
    "        return a\n",
    "    i = int(len(a) / 2)\n",
    "    left = a[0:i]\n",
    "    right = a[i:]\n",
    "    return merge(merge_sort(left), merge_sort(right))\n"
   ]
  },
  {
   "cell_type": "code",
   "execution_count": 12,
   "metadata": {
    "scrolled": true
   },
   "outputs": [],
   "source": [
    "def bucket_sort(A, k, num_buckets=10):\n",
    "    result=[]\n",
    "    buckets = [[] for i in range(num_buckets)]\n",
    "    for key, value in A:\n",
    "        buckets[key].append(value)\n",
    "    if num_buckets <= k:\n",
    "        for bucket in buckets:\n",
    "            m = merge_sort(bucket)\n",
    "            print(m)\n",
    "            result.extend(m)\n",
    "    return result\n",
    "\n",
    "\n",
    "def radix_sort(A,d,k):\n",
    "# A consists of n d-digit ints, with digits ranging 0 -> k-1\n",
    "#\n",
    "# implement your code here\n",
    "    for j in range(d-1,-1,-1):\n",
    "        digit_keys = [int(str(i).zfill(d)[j]) for i in A]\n",
    "        A_j = list(zip(digit_keys,A))\n",
    "        result = bucket_sort(A_j,d)\n",
    "    return A_j\n",
    "#     A = result\n",
    "#     return A\n"
   ]
  },
  {
   "cell_type": "markdown",
   "metadata": {},
   "source": [
    "# Testando implementação"
   ]
  },
  {
   "cell_type": "code",
   "execution_count": 18,
   "metadata": {},
   "outputs": [
    {
     "name": "stdout",
     "output_type": "stream",
     "text": [
      "[(2, 201), (0, 10), (0, 2), (1, 100)]\n"
     ]
    }
   ],
   "source": [
    "A = [201,10,2,100]\n",
    "A_sorted = radix_sort(A, 3, 10)\n",
    "print(A_sorted)"
   ]
  },
  {
   "cell_type": "code",
   "execution_count": 17,
   "metadata": {},
   "outputs": [
    {
     "data": {
      "text/plain": [
       "[]"
      ]
     },
     "execution_count": 17,
     "metadata": {},
     "output_type": "execute_result"
    }
   ],
   "source": [
    "A_j = radix_sort(A,3,10)\n",
    "bucket_sort(A_j,3)"
   ]
  },
  {
   "cell_type": "code",
   "execution_count": null,
   "metadata": {},
   "outputs": [],
   "source": [
    "from numpy import random"
   ]
  },
  {
   "cell_type": "code",
   "execution_count": null,
   "metadata": {},
   "outputs": [],
   "source": [
    "radix_sort(list(random.randint(0,1000,10)),4,10)"
   ]
  }
 ],
 "metadata": {
  "kernelspec": {
   "display_name": "Python3(datascience)",
   "language": "python",
   "name": "datascience"
  },
  "language_info": {
   "codemirror_mode": {
    "name": "ipython",
    "version": 3
   },
   "file_extension": ".py",
   "mimetype": "text/x-python",
   "name": "python",
   "nbconvert_exporter": "python",
   "pygments_lexer": "ipython3",
   "version": "3.6.8"
  }
 },
 "nbformat": 4,
 "nbformat_minor": 2
}
