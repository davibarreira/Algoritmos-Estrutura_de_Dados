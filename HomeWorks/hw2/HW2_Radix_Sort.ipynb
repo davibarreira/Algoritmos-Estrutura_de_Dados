{
 "cells": [
  {
   "cell_type": "markdown",
   "metadata": {},
   "source": [
    "# 2. Radix Sort"
   ]
  },
  {
   "cell_type": "markdown",
   "metadata": {},
   "source": [
    "Your job is to implement the radix sort algorithm in Python. The following code is going to be used to test your implementation. You have to submit a notebook with your code. "
   ]
  },
  {
   "cell_type": "markdown",
   "metadata": {},
   "source": [
    "```python\n",
    "def radix_sort(A, d, k):\n",
    "  # A consists of n d-digit ints, with digits ranging 0 -> k-1\n",
    "  #\n",
    "  # implement your code here\n",
    "  # return A_sorted\n",
    "\n",
    "\n",
    "# Testing your function\n",
    "A = [201, 10, 3, 100]\n",
    "A_sorted = radix_sort(A, 3, 10)\n",
    "print(A_sorted)\n",
    "# output: [3, 10, 100, 201]\n",
    "```"
   ]
  },
  {
   "cell_type": "code",
   "execution_count": null,
   "metadata": {},
   "outputs": [],
   "source": [
    "def radix_sort(A,d,k)\n",
    "  # A consists of n d-digit ints, with digits ranging 0 -> k-1\n",
    "  #\n",
    "  # implement your code here\n",
    "  # return A_sorted\n",
    "    return 0;"
   ]
  }
 ],
 "metadata": {
  "kernelspec": {
   "display_name": "Python3(datascience)",
   "language": "python",
   "name": "datascience"
  },
  "language_info": {
   "codemirror_mode": {
    "name": "ipython",
    "version": 3
   },
   "file_extension": ".py",
   "mimetype": "text/x-python",
   "name": "python",
   "nbconvert_exporter": "python",
   "pygments_lexer": "ipython3",
   "version": "3.6.8"
  }
 },
 "nbformat": 4,
 "nbformat_minor": 2
}
