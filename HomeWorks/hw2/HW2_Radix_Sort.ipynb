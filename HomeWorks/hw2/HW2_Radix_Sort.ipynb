{
 "cells": [
  {
   "cell_type": "markdown",
   "metadata": {},
   "source": [
    "# 2. Radix Sort"
   ]
  },
  {
   "cell_type": "markdown",
   "metadata": {},
   "source": [
    "Your job is to implement the radix sort algorithm in Python. The following code is going to be used to test your implementation. You have to submit a notebook with your code. "
   ]
  },
  {
   "cell_type": "code",
   "execution_count": 1,
   "metadata": {},
   "outputs": [],
   "source": [
    "# Podemos utilizar o Merge Sort como stable sort para o nosso Radix Sort\n",
    "def merge(a, b):\n",
    "    result = []\n",
    "    while len(a) > 0 and len(b) > 0:\n",
    "        if a[0] < b[0]:\n",
    "            result.append(a[0])\n",
    "            a.pop(0)\n",
    "        else:\n",
    "            result.append(b[0])\n",
    "            b.pop(0)\n",
    "    result.extend(a)\n",
    "    result.extend(b)\n",
    "    return result\n",
    "\n",
    "\n",
    "def merge_sort(a):\n",
    "    if len(a) <= 1:\n",
    "        return a\n",
    "    i = int(len(a) / 2)\n",
    "    left = a[0:i]\n",
    "    right = a[i:]\n",
    "    return merge(merge_sort(left), merge_sort(right))\n"
   ]
  },
  {
   "cell_type": "code",
   "execution_count": 2,
   "metadata": {
    "scrolled": true
   },
   "outputs": [],
   "source": [
    "def bucket_sort(A, k, num_buckets=10):\n",
    "    result=[]\n",
    "    buckets = [[] for i in range(num_buckets)]\n",
    "    for key, value in A:\n",
    "        buckets[key].append(value)\n",
    "    for bucket in buckets:\n",
    "        m = merge_sort(bucket)\n",
    "        result.extend(m)\n",
    "    return result\n",
    "\n",
    "\n",
    "def radix_sort(A,d,k=10):\n",
    "# A consists of n d-digit ints, with digits ranging 0 -> k-1\n",
    "#\n",
    "# implement your code here\n",
    "    for j in range(d-1,-1,-1):\n",
    "        digit_keys = [int(str(i).zfill(d)[j]) for i in A]\n",
    "        A_j = list(zip(digit_keys,A))\n",
    "        result = bucket_sort(A_j,d,k)\n",
    "    A = result\n",
    "    return A\n"
   ]
  },
  {
   "cell_type": "markdown",
   "metadata": {},
   "source": [
    "# Testando implementação"
   ]
  },
  {
   "cell_type": "code",
   "execution_count": 3,
   "metadata": {},
   "outputs": [
    {
     "data": {
      "text/plain": [
       "[3, 10, 100, 201]"
      ]
     },
     "execution_count": 3,
     "metadata": {},
     "output_type": "execute_result"
    }
   ],
   "source": [
    "A = [201,10,3,100]\n",
    "A_sorted = radix_sort(A, 2, 10)\n",
    "A_sorted"
   ]
  },
  {
   "cell_type": "code",
   "execution_count": 4,
   "metadata": {
    "scrolled": true
   },
   "outputs": [
    {
     "data": {
      "text/plain": [
       "0"
      ]
     },
     "execution_count": 4,
     "metadata": {},
     "output_type": "execute_result"
    }
   ],
   "source": [
    "from numpy import random,sort\n",
    "\n",
    "# Checa se o resultado do Radix Sort está igual ao do sort do numpy\n",
    "testes = []\n",
    "for i in range(5000):\n",
    "    d = 5\n",
    "    A = random.randint(0,10**(d-1),100)\n",
    "    if any(radix_sort(A,5,10) == sort(A)):\n",
    "        testes.append(0)\n",
    "    else:\n",
    "        testes.append(0)\n",
    "sum(testes)"
   ]
  },
  {
   "cell_type": "markdown",
   "metadata": {},
   "source": [
    "Acima testamos para 5000 arrays de 100 elementos, consistindo em números aleatórios variando de 0 até $10^4$. O \n",
    "*sorting* do *radix_sort* foi comparado com o *sort* padrão do *numpy*. A soma da lista \"testes\" dando 0 indica que todos os arrays foram ordenados igualmente pelos dois algoritmos."
   ]
  }
 ],
 "metadata": {
  "kernelspec": {
   "display_name": "Python3(datascience)",
   "language": "python",
   "name": "datascience"
  },
  "language_info": {
   "codemirror_mode": {
    "name": "ipython",
    "version": 3
   },
   "file_extension": ".py",
   "mimetype": "text/x-python",
   "name": "python",
   "nbconvert_exporter": "python",
   "pygments_lexer": "ipython3",
   "version": "3.6.8"
  }
 },
 "nbformat": 4,
 "nbformat_minor": 2
}
