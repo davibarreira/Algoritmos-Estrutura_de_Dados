{
 "cells": [
  {
   "cell_type": "markdown",
   "metadata": {},
   "source": [
    "# 4. Insertion Sort - Mergesort - Quicks"
   ]
  },
  {
   "cell_type": "code",
   "execution_count": 1,
   "metadata": {},
   "outputs": [],
   "source": [
    "import numpy as np"
   ]
  },
  {
   "cell_type": "code",
   "execution_count": 6,
   "metadata": {
    "scrolled": true
   },
   "outputs": [
    {
     "name": "stdout",
     "output_type": "stream",
     "text": [
      "Pixiedust database opened successfully\n"
     ]
    },
    {
     "data": {
      "text/html": [
       "\n",
       "        <div style=\"margin:10px\">\n",
       "            <a href=\"https://github.com/ibm-watson-data-lab/pixiedust\" target=\"_new\">\n",
       "                <img src=\"https://github.com/ibm-watson-data-lab/pixiedust/raw/master/docs/_static/pd_icon32.png\" style=\"float:left;margin-right:10px\"/>\n",
       "            </a>\n",
       "            <span>Pixiedust version 1.1.17</span>\n",
       "        </div>\n",
       "        "
      ],
      "text/plain": [
       "<IPython.core.display.HTML object>"
      ]
     },
     "metadata": {},
     "output_type": "display_data"
    }
   ],
   "source": [
    "import pixiedust"
   ]
  },
  {
   "cell_type": "markdown",
   "metadata": {},
   "source": [
    "Insertion Sort"
   ]
  },
  {
   "cell_type": "code",
   "execution_count": 2,
   "metadata": {
    "code_folding": []
   },
   "outputs": [],
   "source": [
    "def is_sorted(a):\n",
    "    for i in range(0,len(a)-1):\n",
    "        if a[i+1]<a[i]:\n",
    "            return False\n",
    "    return True"
   ]
  },
  {
   "cell_type": "code",
   "execution_count": 3,
   "metadata": {},
   "outputs": [
    {
     "name": "stdout",
     "output_type": "stream",
     "text": [
      "[0, 1, 4, 5, 12]\n"
     ]
    },
    {
     "data": {
      "text/plain": [
       "True"
      ]
     },
     "execution_count": 3,
     "metadata": {},
     "output_type": "execute_result"
    }
   ],
   "source": [
    "def insertion_sort(a):\n",
    "    a = list(a)\n",
    "    for i in range(len(a)):\n",
    "        cur = a[i]\n",
    "        j   = i -1\n",
    "        while j >= 0 and a[j] > cur:\n",
    "            a[j+1] = a[j]\n",
    "            j      = j -1\n",
    "            a[j+1] = cur\n",
    "    return a\n",
    "\n",
    "A = [0,12,4,1,5]\n",
    "sorted_a = insertion_sort(A)\n",
    "print(sorted_a)\n",
    "\n",
    "is_sorted(sorted_a)"
   ]
  },
  {
   "cell_type": "code",
   "execution_count": 4,
   "metadata": {
    "pixiedust": {
     "displayParams": {}
    }
   },
   "outputs": [
    {
     "name": "stdout",
     "output_type": "stream",
     "text": [
      "[0, 1, 4, 5, 12]\n"
     ]
    },
    {
     "data": {
      "text/plain": [
       "True"
      ]
     },
     "execution_count": 4,
     "metadata": {},
     "output_type": "execute_result"
    }
   ],
   "source": [
    "def merge(a,b):\n",
    "    result = []\n",
    "    while len(a)>0 and len(b)>0:\n",
    "        if a[0] < b[0]:\n",
    "            result.append(a[0])\n",
    "            a.pop(0)\n",
    "        else:\n",
    "            result.append(b[0])\n",
    "            b.pop(0)\n",
    "    result.extend(a)\n",
    "    result.extend(b)\n",
    "    return result\n",
    "    \n",
    "def merge_sort(a):\n",
    "    if len(a)<=1:\n",
    "        return a\n",
    "    i = int(len(a)/2)\n",
    "    left = a[0:i]\n",
    "    right= a[i:]\n",
    "    return merge(merge_sort(left),merge_sort(right))\n",
    "\n",
    "\n",
    "\n",
    "A = [0,12,4,1,5]\n",
    "sorted_a = merge_sort(A)\n",
    "print(sorted_a)\n",
    "\n",
    "is_sorted(sorted_a)"
   ]
  },
  {
   "cell_type": "code",
   "execution_count": null,
   "metadata": {
    "pixiedust": {
     "displayParams": {}
    }
   },
   "outputs": [
    {
     "data": {
      "text/html": [
       "<style type=\"text/css\">.pd_warning{display:none;}</style><div class=\"pd_warning\"><em>Hey, there's something awesome here! To see it, open this notebook outside GitHub, in a viewer like Jupyter</em></div>"
      ],
      "text/plain": [
       "<IPython.core.display.HTML object>"
      ]
     },
     "metadata": {
      "pixieapp_metadata": null
     },
     "output_type": "display_data"
    }
   ],
   "source": [
    "%%pixie_debugger\n",
    "def quick_sort(a):\n",
    "    if len(a) <= 1:\n",
    "        return a\n",
    "    l,e,r =[],[],[]\n",
    "    p = a[np.random.randint(0,len(a)-1)]\n",
    "    for x in a:\n",
    "        if x < p:    l.append(x)\n",
    "        elif x == p: e.append(x)\n",
    "        else:        r.append(x) \n",
    "            \n",
    "    return quick_sort(l)+e+quick_sort(r)\n",
    "\n",
    "A = [0,12,4,1,5]\n",
    "quick_sort(A)"
   ]
  },
  {
   "cell_type": "code",
   "execution_count": null,
   "metadata": {},
   "outputs": [],
   "source": []
  },
  {
   "cell_type": "code",
   "execution_count": null,
   "metadata": {},
   "outputs": [],
   "source": []
  },
  {
   "cell_type": "code",
   "execution_count": null,
   "metadata": {},
   "outputs": [],
   "source": [
    "list(np.random.randint(0,10,size=4))"
   ]
  }
 ],
 "metadata": {
  "kernelspec": {
   "display_name": "Python3(datascience)",
   "language": "python",
   "name": "datascience"
  },
  "language_info": {
   "codemirror_mode": {
    "name": "ipython",
    "version": 3
   },
   "file_extension": ".py",
   "mimetype": "text/x-python",
   "name": "python",
   "nbconvert_exporter": "python",
   "pygments_lexer": "ipython3",
   "version": "3.6.8"
  }
 },
 "nbformat": 4,
 "nbformat_minor": 2
}
