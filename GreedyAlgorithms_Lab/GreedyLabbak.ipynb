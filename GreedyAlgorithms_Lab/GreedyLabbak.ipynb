{
 "cells": [
  {
   "cell_type": "markdown",
   "metadata": {
    "colab_type": "text",
    "id": "eL7H-TtzdKrj"
   },
   "source": [
    "# **GREEDY ALGORITHMS LAB**\n",
    "\n",
    "\n",
    "---\n",
    "\n",
    "\n",
    "\n"
   ]
  },
  {
   "cell_type": "markdown",
   "metadata": {
    "colab_type": "text",
    "id": "SG9NMxy4fELG"
   },
   "source": [
    "First things first, let's make a quick recap of the main properties we've seen in the slides:"
   ]
  },
  {
   "cell_type": "markdown",
   "metadata": {
    "colab_type": "text",
    "id": "MC6qzNVe_DjT"
   },
   "source": [
    "### **Greedy-choice property**\n",
    "\n",
    "The first key ingredient is the greedy-choice property: we can assemble a globally\n",
    "optimal solution by making locally optimal (greedy) choices. \n",
    "\n",
    "In other words, when\n",
    "we are considering which choice to make, we make the choice that looks best in\n",
    "the current problem, without considering results from subproblems."
   ]
  },
  {
   "cell_type": "markdown",
   "metadata": {
    "colab_type": "text",
    "id": "Ar56FdBf_1Kp"
   },
   "source": [
    "### **We design greedy algorithms according to the following sequence of steps:**\n",
    "\n",
    "  1. Cast the optimization problem as one in which we make a choice and are left\n",
    "with one subproblem to solve.\n",
    "  2. Prove that there is always an optimal solution to the original problem that makes\n",
    "the greedy choice, so that the greedy choice is always safe.\n",
    "  3. Demonstrate optimal substructure by showing that, having made the greedy\n",
    "choice, what remains is a subproblem with the property that if we combine an\n",
    "optimal solution to the subproblem with the greedy choice we have made, we\n",
    "arrive at an optimal solution to the original problem."
   ]
  },
  {
   "cell_type": "markdown",
   "metadata": {
    "colab_type": "text",
    "id": "eqXIx71_CALh"
   },
   "source": [
    "###  **Do Greedy Algorithms always work?**\n",
    "\n",
    "The answer is **NO**, of course.\n",
    "\n",
    "So when does it?\n",
    "\n",
    "And when it doesn't?\n",
    "\n",
    "It depends on the problem at hand. Let's see..."
   ]
  },
  {
   "cell_type": "markdown",
   "metadata": {
    "colab_type": "text",
    "id": "rtIltSN5_0Ga"
   },
   "source": [
    "---\n",
    "\n",
    "## **Knapsack problem**\n",
    "\n",
    "\n"
   ]
  },
  {
   "cell_type": "markdown",
   "metadata": {
    "colab_type": "text",
    "id": "I0Jf_a5veLr5"
   },
   "source": [
    "A thief robbing Casas Pedro finds $n$ containers. \n",
    "The items in the $i$th container worth $v_i$ reais and weigh $w_i$\n",
    "kilograms, where $v_i$ and $w_i$ are integers.\n",
    "\n",
    "The thief wants to take as valuable a load as possible, but he can carry at most $W$ \n",
    "kilograms in his knapsack, for some integer $W$.\n",
    "\n",
    "Which items should he take?"
   ]
  },
  {
   "cell_type": "markdown",
   "metadata": {
    "colab_type": "text",
    "id": "StPQf0mCEroj"
   },
   "source": [
    "Let's assume the items are (a) nuts, (b) dried grapes, and (c) manioc flour and that:\n",
    "\n",
    "(a) is worth 60 reais and weighs 10 kg;\n",
    "\n",
    "(b) is worth 100 reais and weighs 20 kg;\n",
    "\n",
    "(c) is worth 120 reais and weighs 30 kg.\n",
    "\n",
    "Let's also assume the knapsack can store no more than 40 kg.\n",
    "\n",
    "What's the optimal theft?"
   ]
  },
  {
   "cell_type": "markdown",
   "metadata": {
    "colab_type": "text",
    "id": "3lePFwmbIa9J"
   },
   "source": [
    "![title](Fig1.PNG)"
   ]
  },
  {
   "cell_type": "markdown",
   "metadata": {
    "colab_type": "text",
    "id": "ESNxul7QHFSA"
   },
   "source": [
    "To solve the fractional problem, we first compute the value per kilogram $v_i/w_i$ for each item.\n",
    "\n",
    "Obeying a greedy strategy, the thief begins by taking as much as possible of\n",
    "the item with the greatest value per kg. If the supply of that item is exhausted\n",
    "and he can still carry more, he takes as much as possible of the item with the next greatest value per kg, and so forth, until he reaches his weight limit $W$.\n"
   ]
  },
  {
   "cell_type": "markdown",
   "metadata": {
    "colab_type": "text",
    "id": "ZjVqDfSsNP38"
   },
   "source": [
    "**Now it's your turn!**\n",
    "\n",
    "Implement in the next cell an algorithm that correctly finds the optimal theft."
   ]
  },
  {
   "cell_type": "code",
   "execution_count": 1,
   "metadata": {
    "colab": {},
    "colab_type": "code",
    "id": "rEkK4FSVNpDH"
   },
   "outputs": [],
   "source": [
    "items = [(10,60),(20,100),(30,120)]\n",
    "sack = 40\n",
    "\n",
    "def solve_knapsack (items,sack):\n",
    "  #Your code here\n",
    "\n",
    "\n"
   ]
  },
  {
   "cell_type": "markdown",
   "metadata": {
    "colab_type": "text",
    "id": "aERrRXlTNny_"
   },
   "source": [
    "If your algorithm got it right, the answer should be:\n",
    "\n",
    "10 kg of (a), worthing 60 reais + \n",
    "20 kg of (b), worthing 100 reais +\n",
    "10 kg of (c), worthing 40 reais,\n",
    "\n",
    "with a theft total worth of 200 reais."
   ]
  },
  {
   "cell_type": "markdown",
   "metadata": {
    "colab_type": "text",
    "id": "Ntzbn4PBQGAT"
   },
   "source": [
    "![title](Fig16.0.png)"
   ]
  },
  {
   "cell_type": "markdown",
   "metadata": {
    "colab_type": "text",
    "id": "ar63vrggUpcK"
   },
   "source": [
    "But what if we had a slightly different problem?\n",
    "\n",
    "The problem we solved is known as the 'Fractional Knapsack Problem'. We shall now examine the **'0-1 Knapsack Problem'**:\n"
   ]
  },
  {
   "cell_type": "markdown",
   "metadata": {
    "colab_type": "text",
    "id": "4olYdNuQhAM6"
   },
   "source": [
    "\n",
    "Imagine the containers were all locked and impossible to be opened. (Or likewise, suppose the items to be undivisable.)\n",
    "\n",
    "If the thief has to choose whether to take or to leave the whole container for each item, what would be the optimal solution?\n",
    "\n",
    "Think, and write the maximum value in the next cell."
   ]
  },
  {
   "cell_type": "code",
   "execution_count": 8,
   "metadata": {
    "colab": {},
    "colab_type": "code",
    "id": "ZVN70SXYVg0Y"
   },
   "outputs": [
    {
     "ename": "SyntaxError",
     "evalue": "invalid syntax (<ipython-input-8-062260ef3dfa>, line 1)",
     "output_type": "error",
     "traceback": [
      "\u001b[0;36m  File \u001b[0;32m\"<ipython-input-8-062260ef3dfa>\"\u001b[0;36m, line \u001b[0;32m1\u001b[0m\n\u001b[0;31m    max_value = # Your answer here\u001b[0m\n\u001b[0m                                  ^\u001b[0m\n\u001b[0;31mSyntaxError\u001b[0m\u001b[0;31m:\u001b[0m invalid syntax\n"
     ]
    }
   ],
   "source": [
    "max_value = # Your answer here"
   ]
  },
  {
   "cell_type": "code",
   "execution_count": null,
   "metadata": {
    "colab": {},
    "colab_type": "code",
    "id": "qlHGsJyoVhKA"
   },
   "outputs": [],
   "source": [
    "n = int(10**(10**(10**(10**(10-10))-10+10/10)-10+10/10))\n",
    "correct = int(n*(n-1)*(n/5))\n",
    "if max_value == correct:\n",
    "    print('Está correto.')\n",
    "else:\n",
    "    print('A resposta correta é ' + str(correct) + '.')"
   ]
  },
  {
   "cell_type": "markdown",
   "metadata": {
    "colab_type": "text",
    "id": "QL0_w_lRVvb2"
   },
   "source": [
    "As you can see, this optimal theft is quite different from the optimal in the original problem.\n",
    "\n",
    "The question is: *'Can you write a greedy algorithm that solves this second problem?'*"
   ]
  },
  {
   "cell_type": "code",
   "execution_count": null,
   "metadata": {
    "colab": {},
    "colab_type": "code",
    "id": "TMx8lvIGWWBX"
   },
   "outputs": [],
   "source": [
    "items = [(10,60),(20,100),(30,120)]\n",
    "sack = 40\n",
    "\n",
    "def solve_second_knapsack (items,sack):\n",
    "  #Your code here\n"
   ]
  },
  {
   "cell_type": "markdown",
   "metadata": {
    "colab_type": "text",
    "id": "QoraiEMJWPfo"
   },
   "source": [
    "Hope you didn't try it for too long.\n",
    "\n",
    "The answer is *'No, you can't.'*\n",
    "\n",
    "Not all problems can be solved by greedy algorithms, as we stated before, and here is one example that it sometimes may be difficult to devise whether the problem at hand can or cannot. "
   ]
  },
  {
   "cell_type": "markdown",
   "metadata": {
    "colab_type": "text",
    "id": "DVOZVV-_YAXN"
   },
   "source": [
    "Now, let's see a different aplication:\n"
   ]
  },
  {
   "cell_type": "markdown",
   "metadata": {
    "colab_type": "text",
    "id": "1WcdyKaGelxc"
   },
   "source": [
    "## **Huffman codes**\n",
    "\n",
    "\n",
    "---\n",
    "\n"
   ]
  },
  {
   "cell_type": "markdown",
   "metadata": {},
   "source": [
    "Let's implement the awesome Huffman coding algorithm! The objective here is to pass a string to bits compressing the data without losing any information.\n",
    "\n",
    "### Overview:\n",
    "- Choose a text to compress;\n",
    "- Calculate the initial amount of bits (we will use this to see the size of the improvement);\n",
    "- Create a dictionary with each character as a key and the frequency as value (e.g: {'A':3,'B':2})\n",
    "- Implement the Huffman algorithm (don't worry, we will provide some guidance)\n"
   ]
  },
  {
   "cell_type": "markdown",
   "metadata": {},
   "source": [
    "Here is some code to turn your string into bits. After converting your text, just calculate the length."
   ]
  },
  {
   "cell_type": "code",
   "execution_count": 14,
   "metadata": {},
   "outputs": [
    {
     "name": "stdout",
     "output_type": "stream",
     "text": [
      "[0, 1, 1, 1, 0, 0, 1, 1]\n"
     ]
    },
    {
     "data": {
      "text/plain": [
       "8"
      ]
     },
     "execution_count": 14,
     "metadata": {},
     "output_type": "execute_result"
    }
   ],
   "source": [
    "# Code from:\n",
    "# https://stackoverflow.com/questions/10237926/convert-string-to-list-of-bits-and-viceversa/41892777\n",
    "\n",
    "def tobits(s):\n",
    "    result = []\n",
    "    for c in s:\n",
    "        bits = bin(ord(c))[2:]\n",
    "        bits = '00000000'[len(bits):] + bits\n",
    "        result.extend([int(b) for b in bits])\n",
    "    return result\n",
    "\n",
    "test = 's'\n",
    "print(tobits(test))\n",
    "len(tobits(test))"
   ]
  },
  {
   "cell_type": "markdown",
   "metadata": {},
   "source": [
    "Create a dictionary containing the frequency of each symbol that appears in your string."
   ]
  },
  {
   "cell_type": "code",
   "execution_count": 15,
   "metadata": {},
   "outputs": [],
   "source": [
    "teste = 'Try any text you want'\n",
    "# Write your code here. Your output should be something like\n",
    "# {'a': 2, 'y': 3,...}\n",
    "\n",
    "#SOLUTION\n",
    "\n"
   ]
  },
  {
   "cell_type": "code",
   "execution_count": null,
   "metadata": {},
   "outputs": [],
   "source": [
    "# initializing string  \n",
    "test_str = \"GeeksforGeeks\"\n",
    "test_str = \"\"\"\n",
    "Lorem Ipsum is simply dummy text\n",
    "of the printing and typesetting industry.\n",
    "Lorem Ipsum has been the industry's standard dummy\n",
    "text ever since the 1500s, when an unknown printer took a galley of\n",
    "type and scrambled it to make a type specimen book. It has survived not only\n",
    "five centuries, but also the leap into electronic typesetting, remaining essentially unchanged.\n",
    "It was popularised in the 1960s with the release of Letraset sheets\n",
    "containing Lorem Ipsum passages, and more recently with desktop\n",
    "publishing software like Aldus PageMaker\n",
    "including versions of Lorem Ipsum.\n",
    "\"\"\"\n",
    "  \n",
    "# using naive method to get count  \n",
    "# of each element in string  \n",
    "all_freq = {} \n",
    "  \n",
    "for i in test_str: \n",
    "    if i in all_freq: \n",
    "        all_freq[i] += 1\n",
    "    else: \n",
    "        all_freq[i] = 1\n",
    "        \n",
    "# factor = 1.0/sum(all_freq.values())\n",
    "# for i in all_freq:\n",
    "#     all_freq[i] = all_freq[i]*factor\n",
    "\n",
    "    \n",
    "huffman(all_freq)\n",
    "bits = 0\n",
    "for i in all_freq:\n",
    "    bits += len(huffman(all_freq)[i])*all_freq[i]\n",
    "huffman(all_freq)\n",
    "print(bits)\n",
    "len(tobits(test_str))"
   ]
  },
  {
   "cell_type": "code",
   "execution_count": null,
   "metadata": {},
   "outputs": [],
   "source": [
    "sum(all_freq.values())"
   ]
  },
  {
   "cell_type": "markdown",
   "metadata": {},
   "source": [
    "![title](Huffman2.png)"
   ]
  },
  {
   "cell_type": "code",
   "execution_count": null,
   "metadata": {
    "pixiedust": {
     "displayParams": {}
    }
   },
   "outputs": [],
   "source": [
    "# https://gist.github.com/mreid/fdf6353ec39d050e972b\n",
    "# Example Huffman coding implementation\n",
    "# Distributions are represented as dictionaries of { 'symbol': probability }\n",
    "# Codes are dictionaries too: { 'symbol': 'codeword' }\n",
    "\n",
    "def huffman(p):\n",
    "\n",
    "    # Base case of only two symbols, assign 0 or 1 arbitrarily\n",
    "    if(len(p) == 2):\n",
    "        return dict(zip(p.keys(), ['0', '1']))\n",
    "\n",
    "    # Create a new distribution by merging lowest prob. pair\n",
    "    p_prime = p.copy()\n",
    "    a1, a2 = lowest_prob_pair(p)\n",
    "    p1, p2 = p_prime.pop(a1), p_prime.pop(a2)\n",
    "    p_prime[a1 + a2] = p1 + p2\n",
    "\n",
    "    # Recurse and construct code on new distribution\n",
    "    c = huffman(p_prime)\n",
    "    ca1a2 = c.pop(a1 + a2)\n",
    "    c[a1], c[a2] = ca1a2 + '0', ca1a2 + '1'\n",
    "\n",
    "    return c\n",
    "\n",
    "def lowest_prob_pair(p):\n",
    "    '''Return pair of symbols from distribution p with lowest probabilities.'''\n",
    "    assert(len(p) >= 2) # Ensure there are at least 2 symbols in the dist.\n",
    "\n",
    "#     sorted_p = sorted(p.items(), key=lambda (i,pi): pi)\n",
    "    sorted_p = sorted(p.items(), key=lambda x: x[1])\n",
    "    return sorted_p[0][0], sorted_p[1][0]\n",
    "\n",
    "# Example execution\n",
    "# ex1 = { 'a': 0.5, 'b': 0.25, 'c': 0.25 }\n",
    "# huffman(ex1) # => {'a': '0', 'c': '10', 'b': '11'}\n",
    "  \n",
    "# ex2 = { 'a': 0.25, 'b': 0.25, 'c': 0.2, 'd': 0.15, 'e': 0.15 }\n",
    "# huffman(ex2)  # => {'a': '01', 'c': '00', 'b': '10', 'e': '110', 'd': '111'}\n",
    "\n",
    "ex3 = { 'a': 10, 'e': 15, 'i': 12, 's': 3, 't': 4, 'p':13 ,'n':1 }\n",
    "huffman(ex3)  # => {'a': '01', 'c': '00', 'b': '10', 'e': '110', 'd': '111'}"
   ]
  },
  {
   "cell_type": "code",
   "execution_count": null,
   "metadata": {},
   "outputs": [],
   "source": [
    "bits = 0\n",
    "for i in ex3:\n",
    "    bits += len(huffman(ex3)[i])*ex3[i]"
   ]
  },
  {
   "cell_type": "code",
   "execution_count": null,
   "metadata": {},
   "outputs": [],
   "source": [
    "bits"
   ]
  },
  {
   "cell_type": "code",
   "execution_count": null,
   "metadata": {},
   "outputs": [],
   "source": []
  },
  {
   "cell_type": "code",
   "execution_count": null,
   "metadata": {},
   "outputs": [],
   "source": []
  }
 ],
 "metadata": {
  "colab": {
   "collapsed_sections": [],
   "name": "GreedyLab.ipynb",
   "provenance": [],
   "version": "0.3.2"
  },
  "kernelspec": {
   "display_name": "Python3(datascience)",
   "language": "python",
   "name": "datascience"
  },
  "language_info": {
   "codemirror_mode": {
    "name": "ipython",
    "version": 3
   },
   "file_extension": ".py",
   "mimetype": "text/x-python",
   "name": "python",
   "nbconvert_exporter": "python",
   "pygments_lexer": "ipython3",
   "version": "3.6.8"
  }
 },
 "nbformat": 4,
 "nbformat_minor": 1
}
