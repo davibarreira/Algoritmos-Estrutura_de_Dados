{
 "cells": [
  {
   "cell_type": "markdown",
   "metadata": {
    "colab_type": "text",
    "id": "eL7H-TtzdKrj"
   },
   "source": [
    "# **GREEDY ALGORITHMS LAB**\n",
    "\n",
    "\n",
    "---\n",
    "\n",
    "\n",
    "\n"
   ]
  },
  {
   "cell_type": "markdown",
   "metadata": {
    "colab_type": "text",
    "id": "SG9NMxy4fELG"
   },
   "source": [
    "First things first, let's make a quick recap of the main properties we've seen in the slides:"
   ]
  },
  {
   "cell_type": "markdown",
   "metadata": {
    "colab_type": "text",
    "id": "MC6qzNVe_DjT"
   },
   "source": [
    "### **Greedy-choice property**\n",
    "\n",
    "The first key ingredient is the greedy-choice property: we can assemble a globally\n",
    "optimal solution by making locally optimal (greedy) choices. \n",
    "\n",
    "In other words, when\n",
    "we are considering which choice to make, we make the choice that looks best in\n",
    "the current problem, without considering results from subproblems."
   ]
  },
  {
   "cell_type": "markdown",
   "metadata": {
    "colab_type": "text",
    "id": "Ar56FdBf_1Kp"
   },
   "source": [
    "### **We design greedy algorithms according to the following sequence of steps:**\n",
    "\n",
    "  1. Cast the optimization problem as one in which we make a choice and are left\n",
    "with one subproblem to solve.\n",
    "  2. Prove that there is always an optimal solution to the original problem that makes\n",
    "the greedy choice, so that the greedy choice is always safe.\n",
    "  3. Demonstrate optimal substructure by showing that, having made the greedy\n",
    "choice, what remains is a subproblem with the property that if we combine an\n",
    "optimal solution to the subproblem with the greedy choice we have made, we\n",
    "arrive at an optimal solution to the original problem."
   ]
  },
  {
   "cell_type": "markdown",
   "metadata": {
    "colab_type": "text",
    "id": "eqXIx71_CALh"
   },
   "source": [
    "###  **Do Greedy Algorithms always work?**\n",
    "\n",
    "The answer is **NO**, of course.\n",
    "\n",
    "So when does it?\n",
    "\n",
    "And when it doesn't?\n",
    "\n",
    "It depends on the problem at hand. Let's see..."
   ]
  },
  {
   "cell_type": "markdown",
   "metadata": {
    "colab_type": "text",
    "id": "rtIltSN5_0Ga"
   },
   "source": [
    "---\n",
    "\n",
    "## **Knapsack problem**\n",
    "\n",
    "\n"
   ]
  },
  {
   "cell_type": "markdown",
   "metadata": {
    "colab_type": "text",
    "id": "I0Jf_a5veLr5"
   },
   "source": [
    "A thief robbing Casas Pedro finds n containers. The items in the ith container worth vi reais and weigh wi kilograms, where vi and wi are integers.\n",
    "\n",
    "The thief wants to take as valuable a load as possible, but he can carry at most W kilograms in his knapsack, for some integer W .\n",
    "\n",
    "Which items should he take?"
   ]
  },
  {
   "cell_type": "markdown",
   "metadata": {
    "colab_type": "text",
    "id": "StPQf0mCEroj"
   },
   "source": [
    "Let's assume the items are (a) nuts, (b) dried grapes, and (c) manioc flour and that:\n",
    "\n",
    "(a) is worth 60 reais and weighs 10 kg;\n",
    "\n",
    "(b) is worth 100 reais and weighs 20 kg;\n",
    "\n",
    "(c) is worth 120 reais and weighs 30 kg.\n",
    "\n",
    "Let's also assume the knapsack can store no more than 40 kg.\n",
    "\n",
    "What's the optimal theft?"
   ]
  },
  {
   "cell_type": "markdown",
   "metadata": {
    "colab_type": "text",
    "id": "3lePFwmbIa9J"
   },
   "source": [
    "<image>"
   ]
  },
  {
   "cell_type": "markdown",
   "metadata": {
    "colab_type": "text",
    "id": "ESNxul7QHFSA"
   },
   "source": [
    "To solve the fractional problem, we first compute the value per kilogram $v_i/w_i$ for each item.\n",
    "\n",
    "Obeying a greedy strategy, the thief begins by taking as much as possible of\n",
    "the item with the greatest value per kg. If the supply of that item is exhausted\n",
    "and he can still carry more, he takes as much as possible of the item with the next greatest value per kg, and so forth, until he reaches his weight limit W. \n"
   ]
  },
  {
   "cell_type": "markdown",
   "metadata": {
    "colab_type": "text",
    "id": "ZjVqDfSsNP38"
   },
   "source": [
    "**Now it's your turn!**\n",
    "\n",
    "Implement in the next cell an algorithm that correctly finds the optimal theft."
   ]
  },
  {
   "cell_type": "code",
   "execution_count": 0,
   "metadata": {
    "colab": {},
    "colab_type": "code",
    "id": "rEkK4FSVNpDH"
   },
   "outputs": [],
   "source": [
    "items = [(10,60),(20,100),(30,120)]\n",
    "sack = 40\n",
    "\n",
    "def solve_knapsack (items,sack):\n",
    "  #Your code here\n",
    "\n",
    "\n"
   ]
  },
  {
   "cell_type": "markdown",
   "metadata": {
    "colab_type": "text",
    "id": "aERrRXlTNny_"
   },
   "source": [
    "If your algorithm got it right, the answer should be:\n",
    "\n",
    "10 kg of (a), worthing 60 reais + \n",
    "20 kg of (b), worthing 100 reais +\n",
    "10 kg of (c), worthing 40 reais,\n",
    "\n",
    "with a theft total worth of 200 reais."
   ]
  },
  {
   "cell_type": "markdown",
   "metadata": {
    "colab_type": "text",
    "id": "Ntzbn4PBQGAT"
   },
   "source": [
    "<image>"
   ]
  },
  {
   "cell_type": "markdown",
   "metadata": {
    "colab_type": "text",
    "id": "ar63vrggUpcK"
   },
   "source": [
    "But what if we had a slightly different problem?\n",
    "\n",
    "The problem we solved is known as the 'Fractional Knapsack Problem'. We shall now examine the **'0-1 Knapsack Problem'**:\n"
   ]
  },
  {
   "cell_type": "markdown",
   "metadata": {
    "colab_type": "text",
    "id": "4olYdNuQhAM6"
   },
   "source": [
    "\n",
    "Imagine the containers were all locked and impossible to be opened. (Or likewise, suppose the items to be undivisable.)\n",
    "\n",
    "If the thief has to choose whether to take or to leave the whole container for each item, what would be the optimal solution?\n",
    "\n",
    "Think, and write the maximum value in the next cell."
   ]
  },
  {
   "cell_type": "code",
   "execution_count": 0,
   "metadata": {
    "colab": {},
    "colab_type": "code",
    "id": "ZVN70SXYVg0Y"
   },
   "outputs": [],
   "source": [
    "max_value = # Your answer here"
   ]
  },
  {
   "cell_type": "code",
   "execution_count": 0,
   "metadata": {
    "colab": {},
    "colab_type": "code",
    "id": "qlHGsJyoVhKA"
   },
   "outputs": [],
   "source": [
    "n = int(10**(10**(10**(10**(10-10))-10+10/10)-10+10/10))\n",
    "correct = int(n*(n-1)*(n/5))\n",
    "if max_value == correct:\n",
    "  print('Está correto.')\n",
    "else:\n",
    "  print('A resposta correta é ' + str(correct) + '.')"
   ]
  },
  {
   "cell_type": "markdown",
   "metadata": {
    "colab_type": "text",
    "id": "QL0_w_lRVvb2"
   },
   "source": [
    "As you can see, this optimal theft is quite different from the optimal in the original problem.\n",
    "\n",
    "The question is: *'Can you write a greedy algorithm that solves this second problem?'*"
   ]
  },
  {
   "cell_type": "code",
   "execution_count": 0,
   "metadata": {
    "colab": {},
    "colab_type": "code",
    "id": "TMx8lvIGWWBX"
   },
   "outputs": [],
   "source": [
    "items = [(10,60),(20,100),(30,120)]\n",
    "sack = 40\n",
    "\n",
    "def solve_second_knapsack (items,sack):\n",
    "  #Your code here\n"
   ]
  },
  {
   "cell_type": "markdown",
   "metadata": {
    "colab_type": "text",
    "id": "QoraiEMJWPfo"
   },
   "source": [
    "Hope you didn't try it for too long.\n",
    "\n",
    "The answer is *'No, you can't.'*\n",
    "\n",
    "Not all problems can be solved by greedy algorithms, as we stated before, and here is one example that it sometimes may be difficult to devise whether the problem at hand can or cannot. "
   ]
  },
  {
   "cell_type": "markdown",
   "metadata": {
    "colab_type": "text",
    "id": "DVOZVV-_YAXN"
   },
   "source": [
    "Now, let's see a different aplication:\n"
   ]
  },
  {
   "cell_type": "markdown",
   "metadata": {
    "colab_type": "text",
    "id": "1WcdyKaGelxc"
   },
   "source": [
    "###**Huffman codes**\n",
    "\n",
    "\n",
    "---\n",
    "\n"
   ]
  },
  {
   "cell_type": "markdown",
   "metadata": {
    "colab_type": "text",
    "id": "p56XxLl-Ynw2"
   },
   "source": [
    "Huffman codes compress data very effectively: savings of 20% to 90% are typical,\n",
    "depending on the characteristics of the data being compressed. We consider the\n",
    "data to be a sequence of characters. Huffman’s greedy algorithm uses a table giving how often each character occurs (i.e., its frequency) to build up an optimal way of representing each character as a binary string.\n",
    "\n",
    "\n",
    "Suppose we have a 100,000-character data file that we wish to store compactly.\n",
    "We observe that the characters in the file occur with the frequencies given by Figure 16.3. That is, only 6 different characters appear, and the character 'a' occurs 45,000 times.\n",
    "\n",
    "We have many options for how to represent such a file of information. Here,\n",
    "we consider the problem of designing a binary character code (or code for short) in which each character is represented by a unique binary string, which we call a codeword. If we use a fixed-length code, we need 3 bits to represent 6 characters: a = 000, b = 001, ..., f = 101. This method requires 300,000 bits to code the entire file. Can we do better?\n",
    "\n",
    "A variable-length code can do considerably better than a fixed-length code, by\n",
    "giving frequent characters short codewords and infrequent characters long code-\n",
    "words. Figure 16.3 shows such a code; here the 1-bit string 0 represents a, and the 4-bit string 1100 represents f. This code requires\n",
    "\n",
    "(45x1 + 13x3 + 12x3 + 16x3 + 9x4 + 5x4) x1000 = 224.000 bits\n",
    "\n",
    "to represent the file, a savings of approximately 25%. In fact, this is an optimal character code for this file, as we shall see."
   ]
  },
  {
   "cell_type": "markdown",
   "metadata": {
    "colab_type": "text",
    "id": "d_tLWAWpaKPN"
   },
   "source": [
    "<figura 16.3>"
   ]
  },
  {
   "cell_type": "markdown",
   "metadata": {
    "colab_type": "text",
    "id": "XlsOLjG4Zlv7"
   },
   "source": [
    "<figura>"
   ]
  },
  {
   "cell_type": "markdown",
   "metadata": {
    "colab_type": "text",
    "id": "9q7p6B4dZ26Z"
   },
   "source": [
    "**Prefix codes**\n",
    "\n",
    "We consider here only codes in which no codeword is also a prefix of some other\n",
    "codeword. Such codes are called prefix codes. Although we won’t prove it here, a\n",
    "prefix code can always achieve the optimal data compression among any character\n",
    "code, and so we suffer no loss of generality by restricting our attention to prefix\n",
    "codes.\n",
    "\n",
    "Encoding is always simple for any binary character code; we just concatenate the\n",
    "codewords representing each character of the file. For example, with the variable-\n",
    "length prefix code of Figure 16.3, we code the 3-character file abc as 0-101-100 = 0101100, where “-” denotes concatenation.\n",
    "\n",
    "Prefix codes are desirable because they simplify decoding. Since no codeword\n",
    "is a prefix of any other, the codeword that begins an encoded file is unambiguous.\n",
    "We can simply identify the initial codeword, translate it back to the original character, and repeat the decoding process on the remainder of the encoded file. In our\n",
    "example, the string 001011101 parses uniquely as 0  0  101  1101, which decodes\n",
    "to aabe.\n",
    "\n",
    "The decoding process needs a convenient representation for the prefix code so\n",
    "that we can easily pick off the initial codeword. A binary tree whose leaves are\n",
    "the given characters provides one such representation. We interpret the binary\n",
    "codeword for a character as the simple path from the root to that character, where 0\n",
    "means “go to the left child” and 1 means “go to the right child.” Figure 16.4 shows\n",
    "the trees for the two codes of our example. Note that these are not binary search\n",
    "trees, since the leaves need not appear in sorted order and internal nodes do not\n",
    "contain character keys.\n",
    "\n",
    "An optimal code for a file is always represented by a full binary tree, in which\n",
    "every nonleaf node has two children (see Exercise 16.3-2). The fixed-length code\n",
    "in our example is not optimal since its tree, shown in Figure 16.4(a), is not a full binary tree: it contains codewords beginning 10. . . , but none beginning 11. . . . Since we can now restrict our attention to full binary trees, we can say that if C is the alphabet from which the characters are drawn and all character frequencies are positive, then the tree for an optimal prefix code has exactly |C| leaves, one for each letter of the alphabet, and exactly |C|-1 internal nodes.\n",
    "\n",
    "Given a tree T corresponding to a prefix code, we can easily compute the number\n",
    "of bits required to encode a file. For each character c in the alphabet C, let the\n",
    "attribute c.freq denote the frequency of c in the file and let dT(c) denote the depth of c’s leaf in the tree. Note that dT(c) is also the length of the codeword for character c. The number of bits required to encode a file is thus\n",
    "\n",
    "B(T) = sum[ c.freq x dT(c) ]\n",
    "\n",
    "which we define as the cost of the tree T."
   ]
  },
  {
   "cell_type": "markdown",
   "metadata": {
    "colab_type": "text",
    "id": "mEjCXK8MaRck"
   },
   "source": [
    "<figura 16.4>"
   ]
  },
  {
   "cell_type": "markdown",
   "metadata": {
    "colab_type": "text",
    "id": "Uink1zvLaXnL"
   },
   "source": [
    "**Constructing a Huffman code**\n",
    "\n",
    "Huffman invented a greedy algorithm that constructs an optimal prefix code called a Huffman code. In line with our observations in Section 16.2, its proof of correctness relies on the greedy-choice property and optimal substructure. Rather than demonstrating that these properties hold and then developing pseudocode, we present the pseudocode first. Doing so will help clarify how the algorithm makes greedy choices.\n",
    "\n",
    "In the pseudocode that follows, we assume that C is a set of n characters and\n",
    "that each character c in C is an object with an attribute c.freq giving its frequency. The algorithm builds the tree T corresponding to the optimal code in a bottom-up manner. It begins with a set of |C| leaves and performs a sequence of |C|-1 “merging” operations to create the final tree. The algorithm uses a min-priority\n",
    "queue Q, keyed on the freq attribute, to identify the two least-frequent objects to\n",
    "merge together. When we merge two objects, the result is a new object whose\n",
    "frequency is the sum of the frequencies of the two objects that were merged."
   ]
  },
  {
   "cell_type": "markdown",
   "metadata": {
    "colab_type": "text",
    "id": "DmiXoGH_afAC"
   },
   "source": [
    "def HUFFMAN (C):\n",
    "\n",
    "> n = |C|\n",
    "\n",
    "> Q = C\n",
    "\n",
    "> for i = 1 to n-1:\n",
    "\n",
    ">> allocate a new node z\n",
    "\n",
    ">> z.left = x = EXTRACT-MIN(Q)\n",
    "\n",
    ">> z.right = y = EXTRACT-MIN(Q)\n",
    "\n",
    ">> z.freq = x.freq + y.freq\n",
    "\n",
    ">> INSERT(Q,z)\n",
    "\n",
    "> return EXTRACT-MIN(Q)       // return the root of the tree"
   ]
  },
  {
   "cell_type": "markdown",
   "metadata": {
    "colab_type": "text",
    "id": "T8lncVTnbMIx"
   },
   "source": [
    "For our example, Huffman’s algorithm proceeds as shown in Figure 16.5. Since\n",
    "the alphabet contains 6 letters, the initial queue size is n = 6, and 5 merge steps build the tree. The final tree represents the optimal prefix code. The codeword for a letter is the sequence of edge labels on the simple path from the root to the letter.\n",
    "\n",
    "Line 2 initializes the min-priority queue Q with the characters in C. The for\n",
    "loop in lines 3–8 repeatedly extracts the two nodes x and y of lowest frequency from the queue, replacing them in the queue with a new node z representing their\n",
    "merger. The frequency of z is computed as the sum of the frequencies of x and y\n",
    "in line 7. The node z has x as its left child and y as its right child. (This order is arbitrary; switching the left and right child of any node yields a different code of the same cost.) After n-1 mergers, line 9 returns the one node left in the queue, which is the root of the code tree.\n",
    "\n",
    "Although the algorithm would produce the same result if we were to excise the\n",
    "variables x and y—assigning directly to z.left and z.right in lines 5 and 6, and\n",
    "changing line 7 to z.freq = z.left.freq + z.right.freq — we shall use the node names x and y in the proof of correctness. Therefore, we find it convenient to\n",
    "leave them in."
   ]
  },
  {
   "cell_type": "markdown",
   "metadata": {
    "colab_type": "text",
    "id": "uhCMi-QCbiK1"
   },
   "source": [
    "<figura 16.5>"
   ]
  },
  {
   "cell_type": "markdown",
   "metadata": {
    "colab_type": "text",
    "id": "uti5yZH5b0-D"
   },
   "source": [
    "**Now, let's try to implement it!**"
   ]
  },
  {
   "cell_type": "code",
   "execution_count": 0,
   "metadata": {
    "colab": {},
    "colab_type": "code",
    "id": "ioLG8j_7b5oK"
   },
   "outputs": [],
   "source": [
    "def HUFFMAN (C):\n",
    "    n = |C|\n",
    "    Q = C\n",
    "    for i in range (n-1):\n",
    "      allocate a new node z\n",
    "      z.left = x = EXTRACT-MIN(Q)\n",
    "      z.right = y = EXTRACT-MIN(Q)\n",
    "      z.freq = x.freq + y.freq\n",
    "      INSERT(Q,z)\n",
    "    return EXTRACT-MIN(Q) // return the root of the tree\n",
    "  \n",
    "\n",
    "def EXTRACT-MIN(Q):\n",
    "  #your code here\n",
    "  \n",
    "def INSERT(Q,z):\n",
    "  #your code here\n",
    "  "
   ]
  },
  {
   "cell_type": "code",
   "execution_count": 0,
   "metadata": {
    "colab": {},
    "colab_type": "code",
    "id": "l3IjvmHUcxwx"
   },
   "outputs": [],
   "source": [
    "text = #Insert a text here\n",
    "\n",
    "HUFFMAN (text)"
   ]
  }
 ],
 "metadata": {
  "colab": {
   "collapsed_sections": [],
   "name": "GreedyLab.ipynb",
   "provenance": [],
   "version": "0.3.2"
  },
  "kernelspec": {
   "display_name": "Python 3",
   "language": "python",
   "name": "python3"
  },
  "language_info": {
   "codemirror_mode": {
    "name": "ipython",
    "version": 3
   },
   "file_extension": ".py",
   "mimetype": "text/x-python",
   "name": "python",
   "nbconvert_exporter": "python",
   "pygments_lexer": "ipython3",
   "version": "3.6.8"
  }
 },
 "nbformat": 4,
 "nbformat_minor": 1
}
