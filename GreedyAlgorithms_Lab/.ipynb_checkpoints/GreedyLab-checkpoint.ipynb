{
 "cells": [
  {
   "cell_type": "markdown",
   "metadata": {
    "colab_type": "text",
    "id": "eL7H-TtzdKrj"
   },
   "source": [
    "# **GREEDY ALGORITHMS LAB**\n",
    "\n",
    "\n",
    "---\n",
    "\n",
    "\n",
    "\n"
   ]
  },
  {
   "cell_type": "markdown",
   "metadata": {
    "colab_type": "text",
    "id": "SG9NMxy4fELG"
   },
   "source": [
    "First things first, let's make a quick recap of the main properties we've seen in the slides:"
   ]
  },
  {
   "cell_type": "markdown",
   "metadata": {
    "colab_type": "text",
    "id": "MC6qzNVe_DjT"
   },
   "source": [
    "### **Greedy-choice property**\n",
    "\n",
    "The first key ingredient is the greedy-choice property: we can assemble a globally\n",
    "optimal solution by making locally optimal (greedy) choices. \n",
    "\n",
    "In other words, when\n",
    "we are considering which choice to make, we make the choice that looks best in\n",
    "the current problem, without considering results from subproblems."
   ]
  },
  {
   "cell_type": "markdown",
   "metadata": {
    "colab_type": "text",
    "id": "Ar56FdBf_1Kp"
   },
   "source": [
    "### **We design greedy algorithms according to the following sequence of steps:**\n",
    "\n",
    "  1. Cast the optimization problem as one in which we make a choice and are left\n",
    "with one subproblem to solve.\n",
    "  2. Prove that there is always an optimal solution to the original problem that makes\n",
    "the greedy choice, so that the greedy choice is always safe.\n",
    "  3. Demonstrate optimal substructure by showing that, having made the greedy\n",
    "choice, what remains is a subproblem with the property that if we combine an\n",
    "optimal solution to the subproblem with the greedy choice we have made, we\n",
    "arrive at an optimal solution to the original problem."
   ]
  },
  {
   "cell_type": "markdown",
   "metadata": {
    "colab_type": "text",
    "id": "eqXIx71_CALh"
   },
   "source": [
    "###  **Do Greedy Algorithms always work?**\n",
    "\n",
    "The answer is **NO**, of course.\n",
    "\n",
    "So when does it?\n",
    "\n",
    "And when it doesn't?\n",
    "\n",
    "It depends on the problem at hand. Let's see..."
   ]
  },
  {
   "cell_type": "markdown",
   "metadata": {
    "colab_type": "text",
    "id": "rtIltSN5_0Ga"
   },
   "source": [
    "---\n",
    "\n",
    "## **Knapsack problem**\n",
    "\n",
    "\n"
   ]
  },
  {
   "cell_type": "markdown",
   "metadata": {
    "colab_type": "text",
    "id": "I0Jf_a5veLr5"
   },
   "source": [
    "A thief robbing Casas Pedro finds $n$ containers. \n",
    "The items in the $i$th container worth $v_i$ reais and weigh $w_i$\n",
    "kilograms, where $v_i$ and $w_i$ are integers.\n",
    "\n",
    "The thief wants to take as valuable a load as possible, but he can carry at most $W$ \n",
    "kilograms in his knapsack, for some integer $W$.\n",
    "\n",
    "Which items should he take?"
   ]
  },
  {
   "cell_type": "markdown",
   "metadata": {
    "colab_type": "text",
    "id": "StPQf0mCEroj"
   },
   "source": [
    "Let's assume the items are (a) nuts, (b) dried grapes, and (c) manioc flour and that:\n",
    "\n",
    "(a) is worth 60 reais and weighs 10 kg;\n",
    "\n",
    "(b) is worth 100 reais and weighs 20 kg;\n",
    "\n",
    "(c) is worth 120 reais and weighs 30 kg.\n",
    "\n",
    "Let's also assume the knapsack can store no more than 40 kg.\n",
    "\n",
    "What's the optimal theft?"
   ]
  },
  {
   "cell_type": "markdown",
   "metadata": {
    "colab_type": "text",
    "id": "3lePFwmbIa9J"
   },
   "source": [
    "![title](Fig1.PNG)"
   ]
  },
  {
   "cell_type": "markdown",
   "metadata": {
    "colab_type": "text",
    "id": "ESNxul7QHFSA"
   },
   "source": [
    "To solve the fractional problem, we first compute the value per kilogram $v_i/w_i$ for each item.\n",
    "\n",
    "Obeying a greedy strategy, the thief begins by taking as much as possible of\n",
    "the item with the greatest value per kg. If the supply of that item is exhausted\n",
    "and he can still carry more, he takes as much as possible of the item with the next greatest value per kg, and so forth, until he reaches his weight limit $W$.\n"
   ]
  },
  {
   "cell_type": "markdown",
   "metadata": {
    "colab_type": "text",
    "id": "ZjVqDfSsNP38"
   },
   "source": [
    "**Now it's your turn!**\n",
    "\n",
    "Implement in the next cell an algorithm that correctly finds the optimal theft."
   ]
  },
  {
   "cell_type": "code",
   "execution_count": null,
   "metadata": {
    "colab": {},
    "colab_type": "code",
    "id": "rEkK4FSVNpDH"
   },
   "outputs": [],
   "source": [
    "items = [(10,60),(20,100),(30,120)]\n",
    "sack = 40\n",
    "\n",
    "def solve_knapsack (items,sack):\n",
    "  #Your code here\n",
    "\n",
    "\n"
   ]
  },
  {
   "cell_type": "markdown",
   "metadata": {
    "colab_type": "text",
    "id": "aERrRXlTNny_"
   },
   "source": [
    "If your algorithm got it right, the answer should be:\n",
    "\n",
    "10 kg of (a), worthing 60 reais + \n",
    "20 kg of (b), worthing 100 reais +\n",
    "10 kg of (c), worthing 40 reais,\n",
    "\n",
    "with a theft total worth of 200 reais."
   ]
  },
  {
   "cell_type": "markdown",
   "metadata": {
    "colab_type": "text",
    "id": "Ntzbn4PBQGAT"
   },
   "source": [
    "![title](Fig16.0.png)"
   ]
  },
  {
   "cell_type": "markdown",
   "metadata": {
    "colab_type": "text",
    "id": "ar63vrggUpcK"
   },
   "source": [
    "But what if we had a slightly different problem?\n",
    "\n",
    "The problem we solved is known as the 'Fractional Knapsack Problem'. We shall now examine the **'0-1 Knapsack Problem'**:\n"
   ]
  },
  {
   "cell_type": "markdown",
   "metadata": {
    "colab_type": "text",
    "id": "4olYdNuQhAM6"
   },
   "source": [
    "\n",
    "Imagine the containers were all locked and impossible to be opened. (Or likewise, suppose the items to be undivisable.)\n",
    "\n",
    "If the thief has to choose whether to take or to leave the whole container for each item, what would be the optimal solution?\n",
    "\n",
    "Think, and write the maximum value in the next cell."
   ]
  },
  {
   "cell_type": "code",
   "execution_count": null,
   "metadata": {
    "colab": {},
    "colab_type": "code",
    "id": "ZVN70SXYVg0Y"
   },
   "outputs": [],
   "source": [
    "max_value = # Your answer here"
   ]
  },
  {
   "cell_type": "code",
   "execution_count": null,
   "metadata": {
    "colab": {},
    "colab_type": "code",
    "id": "qlHGsJyoVhKA"
   },
   "outputs": [],
   "source": [
    "n = int(10**(10**(10**(10**(10-10))-10+10/10)-10+10/10))\n",
    "correct = int(n*(n-1)*(n/5))\n",
    "if max_value == correct:\n",
    "    print('Está correto.')\n",
    "else:\n",
    "    print('A resposta correta é ' + str(correct) + '.')"
   ]
  },
  {
   "cell_type": "markdown",
   "metadata": {
    "colab_type": "text",
    "id": "QL0_w_lRVvb2"
   },
   "source": [
    "As you can see, this optimal theft is quite different from the optimal in the original problem.\n",
    "\n",
    "The question is: *'Can you write a greedy algorithm that solves this second problem?'*"
   ]
  },
  {
   "cell_type": "code",
   "execution_count": null,
   "metadata": {
    "colab": {},
    "colab_type": "code",
    "id": "TMx8lvIGWWBX"
   },
   "outputs": [],
   "source": [
    "items = [(10,60),(20,100),(30,120)]\n",
    "sack = 40\n",
    "\n",
    "def solve_second_knapsack (items,sack):\n",
    "  #Your code here\n"
   ]
  },
  {
   "cell_type": "markdown",
   "metadata": {
    "colab_type": "text",
    "id": "QoraiEMJWPfo"
   },
   "source": [
    "Hope you didn't try it for too long.\n",
    "\n",
    "The answer is *'No, you can't.'*\n",
    "\n",
    "Not all problems can be solved by greedy algorithms, as we stated before, and here is one example that it sometimes may be difficult to devise whether the problem at hand can or cannot. "
   ]
  },
  {
   "cell_type": "markdown",
   "metadata": {
    "colab_type": "text",
    "id": "DVOZVV-_YAXN"
   },
   "source": [
    "Now, let's see a different aplication:\n"
   ]
  },
  {
   "cell_type": "markdown",
   "metadata": {
    "colab_type": "text",
    "id": "1WcdyKaGelxc"
   },
   "source": [
    "## **Huffman codes**\n",
    "\n",
    "\n",
    "---\n",
    "\n"
   ]
  },
  {
   "cell_type": "markdown",
   "metadata": {},
   "source": [
    "Let's implement the awesome Huffman coding algorithm! The objective here is to pass a string to bits compressing the data without losing any information.\n",
    "\n",
    "### Overview:\n",
    "- Choose a text to compress;\n",
    "- Calculate the initial amount of bits (we will use this to see the size of the improvement);\n",
    "- Create a dictionary with each character as a key and the frequency as value (e.g: {'A':3,'B':2})\n",
    "- Implement the Huffman algorithm (don't worry, we will provide some guidance)\n"
   ]
  },
  {
   "cell_type": "markdown",
   "metadata": {},
   "source": [
    "Here is some code to turn your string into bits. After converting your text, just calculate the length."
   ]
  },
  {
   "cell_type": "code",
   "execution_count": null,
   "metadata": {},
   "outputs": [],
   "source": [
    "# Code from:\n",
    "# https://stackoverflow.com/questions/10237926/convert-string-to-list-of-bits-and-viceversa/41892777\n",
    "\n",
    "def tobits(s):\n",
    "    result = []\n",
    "    for c in s:\n",
    "        bits = bin(ord(c))[2:]\n",
    "        bits = '00000000'[len(bits):] + bits\n",
    "        result.extend([int(b) for b in bits])\n",
    "    return result\n",
    "\n",
    "test = 's'\n",
    "print(tobits(test))\n",
    "len(tobits(test))"
   ]
  },
  {
   "cell_type": "markdown",
   "metadata": {},
   "source": [
    "Create a dictionary containing the frequency of each symbol that appears in your string."
   ]
  },
  {
   "cell_type": "code",
   "execution_count": null,
   "metadata": {},
   "outputs": [],
   "source": [
    "test = 'Try any text you want'\n",
    "\n",
    "\n",
    "def frequency_dict(text):\n",
    "# Write your code here. Your output should be something like\n",
    "# {'a': 2, 'y': 3,...}\n",
    "\n",
    "frequency_dict(test)"
   ]
  },
  {
   "cell_type": "markdown",
   "metadata": {},
   "source": [
    "The next step is to implement the Huffman coding. In the end of this notebook there is a session\n",
    "called **APPENDIX**, where we put some of the slides of the example of the Huffman algorithm."
   ]
  },
  {
   "cell_type": "code",
   "execution_count": null,
   "metadata": {},
   "outputs": [],
   "source": [
    "# Create an auxiliar function that returns the pair of symbols with lowest frequency value\n",
    "\n",
    "\n",
    "def lowest_freq_pair(d):\n",
    "    # Implement your code here\n",
    "    \n",
    "    return symbol1, symbol2 # it should return the two symbols with lowest frequency\n",
    "\n",
    "\n",
    "\n",
    "def huffman(d):\n",
    "\n",
    "    # Base case of only two symbols, assign 0 or 1 arbitrarily\n",
    "    # we did this one for you\n",
    "    if(len(d) == 2):\n",
    "        return dict(zip(d.keys(), ['0', '1']))\n",
    "\n",
    "    # Create a new dictionary by merging lowest freq. pair\n",
    "    # You will use your lowest_freq_pair function here\n",
    "    \n",
    "    \n",
    "    \n",
    "\n",
    "    # Recurse and construct code on new distribution\n",
    "    # your dictionary with the merged nodes goes here\n",
    "    c = huffman(new_d)\n",
    "    # After the recursion, update the symbols withe 0's and 1's\n",
    "    # Write more code here\n",
    "    \n",
    "    \n",
    "    \n",
    "    return c # c = {'e':'10', 'i':'00', ...}\n",
    "\n",
    "\n",
    "# Example execution\n",
    "# ex1 = { 'a': 10, 'e': 15, 'i': 12, 's': 3, 't': 4, 'p':13 ,'n':1 }\n",
    "# huffman(ex1)"
   ]
  },
  {
   "cell_type": "markdown",
   "metadata": {},
   "source": [
    "#### Calculating the compression\n",
    "\n",
    "Now that your Huffman coding algorithm is working, write a simple function to calculate the new\n",
    "total number of bits."
   ]
  },
  {
   "cell_type": "code",
   "execution_count": null,
   "metadata": {},
   "outputs": [],
   "source": [
    "# Implement function that calculates the number of bits\n",
    "# after running the Huffman coding algorithm\n",
    "\n",
    "def new_size_huffman():\n",
    "    # Write your code here\n",
    "\n",
    "print('Compressed total of bits   = ',new_size_huffman(?????))\n",
    "print('Uncompressed total of bits = ', len(tobits(test)))"
   ]
  },
  {
   "cell_type": "markdown",
   "metadata": {},
   "source": [
    " # This is all!\n",
    " \n",
    " ----"
   ]
  },
  {
   "cell_type": "markdown",
   "metadata": {},
   "source": [
    "# APPENDIX"
   ]
  },
  {
   "cell_type": "markdown",
   "metadata": {},
   "source": [
    "Slides with the Huffman coding example"
   ]
  },
  {
   "cell_type": "markdown",
   "metadata": {},
   "source": [
    "![title](Huffman0.png)"
   ]
  },
  {
   "cell_type": "markdown",
   "metadata": {},
   "source": [
    "![title](Huffman2.png)"
   ]
  },
  {
   "cell_type": "markdown",
   "metadata": {},
   "source": [
    "![title](Huffman3.png)"
   ]
  }
 ],
 "metadata": {
  "colab": {
   "collapsed_sections": [],
   "name": "GreedyLab.ipynb",
   "provenance": [],
   "version": "0.3.2"
  },
  "kernelspec": {
   "display_name": "Python3(datascience)",
   "language": "python",
   "name": "datascience"
  },
  "language_info": {
   "codemirror_mode": {
    "name": "ipython",
    "version": 3
   },
   "file_extension": ".py",
   "mimetype": "text/x-python",
   "name": "python",
   "nbconvert_exporter": "python",
   "pygments_lexer": "ipython3",
   "version": "3.6.8"
  }
 },
 "nbformat": 4,
 "nbformat_minor": 1
}
